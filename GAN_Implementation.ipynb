{
  "nbformat": 4,
  "nbformat_minor": 0,
  "metadata": {
    "colab": {
      "provenance": [],
      "authorship_tag": "ABX9TyO4ezGAyhG1kHIwPaoONKSx",
      "include_colab_link": true
    },
    "kernelspec": {
      "name": "python3",
      "display_name": "Python 3"
    },
    "language_info": {
      "name": "python"
    }
  },
  "cells": [
    {
      "cell_type": "markdown",
      "metadata": {
        "id": "view-in-github",
        "colab_type": "text"
      },
      "source": [
        "<a href=\"https://colab.research.google.com/github/Spartan-119/PyTorch-project-to-build-a-GAN-model-on-MNIST-dataset/blob/main/GAN_Implementation.ipynb\" target=\"_parent\"><img src=\"https://colab.research.google.com/assets/colab-badge.svg\" alt=\"Open In Colab\"/></a>"
      ]
    },
    {
      "cell_type": "code",
      "execution_count": 1,
      "metadata": {
        "id": "zx9UDENsAhnv"
      },
      "outputs": [],
      "source": [
        "# importing all the necessary libraries\n",
        "import torch\n",
        "from torchvision.datasets import MNIST\n",
        "from torch.utils.data import DataLoader\n",
        "from torchvision import transforms\n",
        "import torch.nn as nn\n",
        "import numpy as np"
      ]
    },
    {
      "cell_type": "code",
      "source": [
        "# method to tansform and load the data with Torch\n",
        "def get_dl(batchsize):\n",
        "\n",
        "    # to transform the data to Tensors\n",
        "    train_transforms = transforms.Compose([transforms.ToTensor()])\n",
        "\n",
        "    # downloading the training and testing MNIST dataset and transforming it to Tensors\n",
        "    train_data = MNIST(root = './train.', train = True, download = True, transform = train_transforms)\n",
        "    test_data = MNIST(root = './test.', train = True, transform = train_transforms)\n",
        "\n",
        "    # loading the data\n",
        "    train_loader = DataLoader(train_data, batch_size = batchsize, shuffle = False, drop_last = True)\n",
        "    test_loader = DataLoader(test_data, batch_size = batchsize, shuffle = False, drop_last = True)\n",
        "\n",
        "    # returning the train and the test data\n",
        "    return train_loader, test_loader"
      ],
      "metadata": {
        "id": "TgrqxrTyk6mU"
      },
      "execution_count": 2,
      "outputs": []
    },
    {
      "cell_type": "markdown",
      "source": [
        "## Generator Network"
      ],
      "metadata": {
        "id": "34uSA9NxqpGw"
      }
    },
    {
      "cell_type": "code",
      "source": [
        "class Generator(nn.Module):\n",
        "    def __init__(self, batch_size, input_dim):\n",
        "        super().__init__()\n",
        "        self.batch_size = batch_size\n",
        "        self.input_dim = input_dim\n",
        "        self.fc1 = nn.Linear(input_dim, 128)\n",
        "        self.LRelu = nn.LeakyReLU()\n",
        "        self.fc2 = nn.Linear(128, 1 * 28 * 28)\n",
        "        self.tanh = nn.Tanh()\n",
        "\n",
        "    # the method for forward propogation\n",
        "    def forward(self, x):\n",
        "        layer1 = self.LRelu(self.fc1(x))\n",
        "        layer2 = self.tanh(self.fc2(layer1))\n",
        "        output = layer2.view(self.batch_size, 1, 28, 28)\n",
        "        return output"
      ],
      "metadata": {
        "id": "7-oY6UxyqnN2"
      },
      "execution_count": 4,
      "outputs": []
    },
    {
      "cell_type": "markdown",
      "source": [
        "## Discriminator Network"
      ],
      "metadata": {
        "id": "qXgQC7KMsNvR"
      }
    },
    {
      "cell_type": "code",
      "source": [
        "class Discriminator(nn.Module):\n",
        "    def __init__(self, batch_size):\n",
        "        super().__init__()\n",
        "        self.batch_size = batch_size\n",
        "        self.fc1 = nn.Linear(1 * 28 * 28, 128)\n",
        "        self.LRelu = nn.LeakyReLU()\n",
        "        self.fc2 = nn.Linear(128, 1)\n",
        "        self.SigmoidL = nn.Sigmoid()\n",
        "\n",
        "    # the method for forward propogation\n",
        "    def forward(self, x):\n",
        "        flat = x.view(self.batch_size, -1)\n",
        "        layer1 = self.LRelu(self.fc1(flat))\n",
        "        output = self.SigmoidL(self.fc2(layer1))\n",
        "        return output.view(-1, 1).squeeze(1)"
      ],
      "metadata": {
        "id": "nw7gj4PTrnht"
      },
      "execution_count": 5,
      "outputs": []
    },
    {
      "cell_type": "code",
      "source": [],
      "metadata": {
        "id": "8xPlSozYuCV7"
      },
      "execution_count": null,
      "outputs": []
    }
  ]
}